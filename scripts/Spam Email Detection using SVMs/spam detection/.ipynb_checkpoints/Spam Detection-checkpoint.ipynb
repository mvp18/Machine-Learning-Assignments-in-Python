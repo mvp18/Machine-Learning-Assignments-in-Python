{
 "cells": [
  {
   "cell_type": "code",
   "execution_count": 1,
   "metadata": {},
   "outputs": [
    {
     "name": "stderr",
     "output_type": "stream",
     "text": [
      "/home/miriad1a/anaconda3/lib/python3.6/site-packages/sklearn/cross_validation.py:41: DeprecationWarning: This module was deprecated in version 0.18 in favor of the model_selection module into which all the refactored classes and functions are moved. Also note that the interface of the new CV iterators are different from that of this module. This module will be removed in 0.20.\n",
      "  \"This module will be removed in 0.20.\", DeprecationWarning)\n"
     ]
    }
   ],
   "source": [
    "import numpy as np\n",
    "from sklearn import datasets, svm \n",
    "from sklearn.cross_validation import train_test_split\n",
    "import matplotlib.pyplot as plt\n",
    "import pylab\n",
    "from sklearn.preprocessing import MinMaxScaler"
   ]
  },
  {
   "cell_type": "code",
   "execution_count": 2,
   "metadata": {},
   "outputs": [],
   "source": [
    "# Data Generation\n",
    "spam_data = np.genfromtxt('./spambase/spambase.csv', delimiter=',')\n",
    "X = spam_data[:,:-1]\n",
    "Y = spam_data[:,-1]\n",
    "X_train, X_test, Y_train, Y_test = train_test_split(X, Y, test_size=0.3, random_state=42)"
   ]
  },
  {
   "cell_type": "code",
   "execution_count": 3,
   "metadata": {},
   "outputs": [],
   "source": [
    "# Preprocessing\n",
    "scaling = MinMaxScaler(feature_range=(-1,1)).fit(X_train)\n",
    "X_train = scaling.transform(X_train)\n",
    "X_test = scaling.transform(X_test)"
   ]
  },
  {
   "cell_type": "code",
   "execution_count": 4,
   "metadata": {},
   "outputs": [],
   "source": [
    "start = 0.000001\n",
    "ratio = 10\n",
    "progression = [start * ratio**i for i in range(13)]"
   ]
  },
  {
   "cell_type": "code",
   "execution_count": 5,
   "metadata": {},
   "outputs": [
    {
     "data": {
      "text/plain": [
       "[1e-06,\n",
       " 9.999999999999999e-06,\n",
       " 9.999999999999999e-05,\n",
       " 0.001,\n",
       " 0.01,\n",
       " 0.09999999999999999,\n",
       " 1.0,\n",
       " 10.0,\n",
       " 100.0,\n",
       " 1000.0,\n",
       " 10000.0,\n",
       " 100000.0,\n",
       " 1000000.0]"
      ]
     },
     "execution_count": 5,
     "metadata": {},
     "output_type": "execute_result"
    }
   ],
   "source": [
    "progression"
   ]
  },
  {
   "cell_type": "code",
   "execution_count": 6,
   "metadata": {},
   "outputs": [],
   "source": [
    "def evaluate_on_test_data(model=None):\n",
    "    predictions = model.predict(X_test)\n",
    "    correct_classifications = 0\n",
    "    for i in range(len(Y_test)):\n",
    "        if predictions[i] == Y_test[i]:\n",
    "            correct_classifications += 1\n",
    "    accuracy = 100*correct_classifications/len(Y_test) #Accuracy as a percentage\n",
    "    return accuracy"
   ]
  },
  {
   "cell_type": "code",
   "execution_count": 7,
   "metadata": {},
   "outputs": [],
   "source": [
    "def evaluate_on_train_data(model=None):\n",
    "    predictions = model.predict(X_train)\n",
    "    correct_classifications = 0\n",
    "    for i in range(len(Y_train)):\n",
    "        if predictions[i] == Y_train[i]:\n",
    "            correct_classifications += 1\n",
    "    accuracy = 100*correct_classifications/len(Y_train) #Accuracy as a percentage\n",
    "    return accuracy"
   ]
  },
  {
   "cell_type": "code",
   "execution_count": 8,
   "metadata": {},
   "outputs": [
    {
     "name": "stdout",
     "output_type": "stream",
     "text": [
      "Kernel operation : linear\n",
      "58.218682114409845 % test accuracy and 61.61490683229814 % train accuracy obtained with C = 1e-06\n",
      "58.218682114409845 % test accuracy and 61.61490683229814 % train accuracy obtained with C = 9.999999999999999e-06\n",
      "58.218682114409845 % test accuracy and 61.61490683229814 % train accuracy obtained with C = 9.999999999999999e-05\n",
      "58.218682114409845 % test accuracy and 61.61490683229814 % train accuracy obtained with C = 0.001\n",
      "79.86965966690803 % test accuracy and 80.62111801242236 % train accuracy obtained with C = 0.01\n",
      "88.6314265025344 % test accuracy and 88.26086956521739 % train accuracy obtained with C = 0.09999999999999999\n",
      "91.74511223750905 % test accuracy and 91.92546583850931 % train accuracy obtained with C = 1.0\n",
      "92.10716871832005 % test accuracy and 93.13664596273291 % train accuracy obtained with C = 10.0\n",
      "92.54163649529326 % test accuracy and 93.47826086956522 % train accuracy obtained with C = 100.0\n",
      "92.68645908761766 % test accuracy and 93.57142857142857 % train accuracy obtained with C = 1000.0\n",
      "92.17958001448226 % test accuracy and 93.04347826086956 % train accuracy obtained with C = 10000.0\n",
      "91.96234612599565 % test accuracy and 92.85714285714286 % train accuracy obtained with C = 100000.0\n",
      "90.94858797972483 % test accuracy and 92.6086956521739 % train accuracy obtained with C = 1000000.0\n",
      "Kernel operation : poly\n",
      "58.218682114409845 % test accuracy and 61.61490683229814 % train accuracy obtained with C = 1e-06\n",
      "58.218682114409845 % test accuracy and 61.61490683229814 % train accuracy obtained with C = 9.999999999999999e-06\n",
      "58.218682114409845 % test accuracy and 61.61490683229814 % train accuracy obtained with C = 9.999999999999999e-05\n",
      "58.218682114409845 % test accuracy and 61.61490683229814 % train accuracy obtained with C = 0.001\n",
      "58.218682114409845 % test accuracy and 61.61490683229814 % train accuracy obtained with C = 0.01\n",
      "58.50832729905866 % test accuracy and 62.391304347826086 % train accuracy obtained with C = 0.09999999999999999\n",
      "85.51774076755974 % test accuracy and 85.71428571428571 % train accuracy obtained with C = 1.0\n",
      "90.29688631426502 % test accuracy and 90.99378881987577 % train accuracy obtained with C = 10.0\n",
      "92.54163649529326 % test accuracy and 92.95031055900621 % train accuracy obtained with C = 100.0\n",
      "93.19333816075307 % test accuracy and 94.03726708074534 % train accuracy obtained with C = 1000.0\n",
      "93.77262853005068 % test accuracy and 94.93788819875776 % train accuracy obtained with C = 10000.0\n",
      "94.42433019551049 % test accuracy and 96.49068322981367 % train accuracy obtained with C = 100000.0\n",
      "91.74511223750905 % test accuracy and 97.82608695652173 % train accuracy obtained with C = 1000000.0\n",
      "Kernel operation : rbf\n",
      "58.218682114409845 % test accuracy and 61.61490683229814 % train accuracy obtained with C = 1e-06\n",
      "58.218682114409845 % test accuracy and 61.61490683229814 % train accuracy obtained with C = 9.999999999999999e-06\n",
      "58.218682114409845 % test accuracy and 61.61490683229814 % train accuracy obtained with C = 9.999999999999999e-05\n",
      "58.218682114409845 % test accuracy and 61.61490683229814 % train accuracy obtained with C = 0.001\n",
      "58.218682114409845 % test accuracy and 61.61490683229814 % train accuracy obtained with C = 0.01\n",
      "58.291093410572046 % test accuracy and 61.95652173913044 % train accuracy obtained with C = 0.09999999999999999\n",
      "86.02461984069515 % test accuracy and 85.93167701863354 % train accuracy obtained with C = 1.0\n",
      "91.23823316437364 % test accuracy and 91.61490683229813 % train accuracy obtained with C = 10.0\n",
      "93.41057204923968 % test accuracy and 93.38509316770187 % train accuracy obtained with C = 100.0\n",
      "93.62780593772628 % test accuracy and 94.22360248447205 % train accuracy obtained with C = 1000.0\n",
      "93.98986241853729 % test accuracy and 95.21739130434783 % train accuracy obtained with C = 10000.0\n",
      "94.49674149167271 % test accuracy and 97.20496894409938 % train accuracy obtained with C = 100000.0\n",
      "92.68645908761766 % test accuracy and 98.41614906832298 % train accuracy obtained with C = 1000000.0\n"
     ]
    }
   ],
   "source": [
    "kernels = ('linear','poly','rbf')\n",
    "acc_linear = []\n",
    "acc_poly = []\n",
    "acc_rbf = []\n",
    "acc_list = [acc_linear, acc_poly, acc_rbf]\n",
    "for index, kernel in enumerate(kernels):\n",
    "    print('Kernel operation : {}'.format(kernel))\n",
    "    for pt, generalization_constant in enumerate(progression):\n",
    "        acc = []\n",
    "        if kernel == 'poly':\n",
    "            model = svm.SVC(kernel=kernel, degree=2, C=generalization_constant)\n",
    "        else:\n",
    "            model = svm.SVC(kernel=kernel, C=generalization_constant)\n",
    "        model.fit(X_train, Y_train)\n",
    "        train_acc = evaluate_on_train_data(model)\n",
    "        test_acc = evaluate_on_test_data(model)\n",
    "        acc = [train_acc, test_acc]\n",
    "        acc_list[index].append(acc)\n",
    "        print(\"{} % test accuracy and {} % train accuracy obtained with C = {}\".format(test_acc, train_acc, generalization_constant))"
   ]
  },
  {
   "cell_type": "code",
   "execution_count": 11,
   "metadata": {},
   "outputs": [
    {
     "data": {
      "image/png": "[encoded data removed]",
      "text/plain": [
       "<matplotlib.figure.Figure at 0x7f45b47d8518>"
      ]
     },
     "metadata": {},
     "output_type": "display_data"
    }
   ],
   "source": [
    "tr_accuracy = [acc_linear[i][0] for i in range(len(acc_linear))]\n",
    "tst_accuracy = [acc_linear[i][1] for i in range(len(acc_linear))]\n",
    "fig = plt.figure()\n",
    "plt.plot(progression, tr_accuracy, '-b', label = 'Training accuracy')\n",
    "plt.plot(progression, tst_accuracy, '-r', label = 'Test accuracy')\n",
    "plt.xlabel('Generalization Constant(C)')\n",
    "plt.ylabel('Accuracies')\n",
    "plt.legend(loc='lower right')\n",
    "plt.show()\n",
    "fig.savefig('linear_accuracies.png')"
   ]
  },
  {
   "cell_type": "code",
   "execution_count": 23,
   "metadata": {},
   "outputs": [],
   "source": [
    "tr_acc = [acc_rbf[i][0] for i in range(len(acc_linear))]\n",
    "ts_acc = [acc_rbf[i][1] for i in range(len(acc_linear))]\n",
    "max_index = np.argmax(np.asarray(ts_acc))"
   ]
  },
  {
   "cell_type": "code",
   "execution_count": 24,
   "metadata": {},
   "outputs": [
    {
     "data": {
      "text/plain": [
       "11"
      ]
     },
     "execution_count": 24,
     "metadata": {},
     "output_type": "execute_result"
    }
   ],
   "source": [
    "max_index"
   ]
  },
  {
   "cell_type": "code",
   "execution_count": 25,
   "metadata": {},
   "outputs": [
    {
     "data": {
      "text/plain": [
       "100000.0"
      ]
     },
     "execution_count": 25,
     "metadata": {},
     "output_type": "execute_result"
    }
   ],
   "source": [
    "progression[max_index]"
   ]
  },
  {
   "cell_type": "code",
   "execution_count": 26,
   "metadata": {},
   "outputs": [
    {
     "data": {
      "text/plain": [
       "94.49674149167271"
      ]
     },
     "execution_count": 26,
     "metadata": {},
     "output_type": "execute_result"
    }
   ],
   "source": [
    "ts_acc[max_index]"
   ]
  },
  {
   "cell_type": "code",
   "execution_count": 27,
   "metadata": {},
   "outputs": [
    {
     "data": {
      "text/plain": [
       "97.20496894409938"
      ]
     },
     "execution_count": 27,
     "metadata": {},
     "output_type": "execute_result"
    }
   ],
   "source": [
    "tr_acc[max_index]"
   ]
  },
  {
   "cell_type": "code",
   "execution_count": null,
   "metadata": {},
   "outputs": [],
   "source": []
  }
 ],
 "metadata": {
  "kernelspec": {
   "display_name": "Python 3",
   "language": "python",
   "name": "python3"
  },
  "language_info": {
   "codemirror_mode": {
    "name": "ipython",
    "version": 3
   },
   "file_extension": ".py",
   "mimetype": "text/x-python",
   "name": "python",
   "nbconvert_exporter": "python",
   "pygments_lexer": "ipython3",
   "version": "3.6.4"
  }
 },
 "nbformat": 4,
 "nbformat_minor": 2
}
